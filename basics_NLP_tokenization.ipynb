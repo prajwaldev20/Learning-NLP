{
 "cells": [
  {
   "cell_type": "code",
   "execution_count": 22,
   "metadata": {},
   "outputs": [
    {
     "name": "stdout",
     "output_type": "stream",
     "text": [
      "Hello, welcome to my basics class. I'm trying to learn NLP techniques! Please this is an example text.\n",
      "This will be beneficial for understanding more!.\n",
      "\n"
     ]
    }
   ],
   "source": [
    "corpous = \"\"\"Hello, welcome to my basics class. I'm trying to learn NLP techniques! Please this is an example text.\n",
    "This will be beneficial for understanding more!.\n",
    "\"\"\"\n",
    "\n",
    "print(corpous)"
   ]
  },
  {
   "cell_type": "code",
   "execution_count": 23,
   "metadata": {},
   "outputs": [],
   "source": [
    "# Tokenization\n",
    "# Sentence -> paragarphs\n",
    "\n",
    "from nltk.tokenize import sent_tokenize"
   ]
  },
  {
   "cell_type": "code",
   "execution_count": 24,
   "metadata": {},
   "outputs": [],
   "source": [
    "documents = sent_tokenize(corpous)"
   ]
  },
  {
   "cell_type": "code",
   "execution_count": 25,
   "metadata": {},
   "outputs": [
    {
     "data": {
      "text/plain": [
       "list"
      ]
     },
     "execution_count": 25,
     "metadata": {},
     "output_type": "execute_result"
    }
   ],
   "source": [
    "type(documents)"
   ]
  },
  {
   "cell_type": "code",
   "execution_count": 26,
   "metadata": {},
   "outputs": [
    {
     "name": "stdout",
     "output_type": "stream",
     "text": [
      "Hello, welcome to my basics class.\n",
      "I'm trying to learn NLP techniques!\n",
      "Please this is an example text.\n",
      "This will be beneficial for understanding more!.\n"
     ]
    }
   ],
   "source": [
    "for sent in documents:\n",
    "     print(sent)"
   ]
  },
  {
   "cell_type": "code",
   "execution_count": 27,
   "metadata": {},
   "outputs": [],
   "source": [
    "# Tokenization\n",
    "# Paragraph -> Words\n",
    "# Sentence -> words\n",
    "\n",
    "from nltk.tokenize import word_tokenize\n"
   ]
  },
  {
   "cell_type": "code",
   "execution_count": 28,
   "metadata": {},
   "outputs": [
    {
     "data": {
      "text/plain": [
       "['Hello',\n",
       " ',',\n",
       " 'welcome',\n",
       " 'to',\n",
       " 'my',\n",
       " 'basics',\n",
       " 'class',\n",
       " '.',\n",
       " 'I',\n",
       " \"'m\",\n",
       " 'trying',\n",
       " 'to',\n",
       " 'learn',\n",
       " 'NLP',\n",
       " 'techniques',\n",
       " '!',\n",
       " 'Please',\n",
       " 'this',\n",
       " 'is',\n",
       " 'an',\n",
       " 'example',\n",
       " 'text',\n",
       " '.',\n",
       " 'This',\n",
       " 'will',\n",
       " 'be',\n",
       " 'beneficial',\n",
       " 'for',\n",
       " 'understanding',\n",
       " 'more',\n",
       " '!',\n",
       " '.']"
      ]
     },
     "execution_count": 28,
     "metadata": {},
     "output_type": "execute_result"
    }
   ],
   "source": [
    "word_tokenize(corpous)"
   ]
  },
  {
   "cell_type": "code",
   "execution_count": 30,
   "metadata": {},
   "outputs": [
    {
     "name": "stdout",
     "output_type": "stream",
     "text": [
      "['Hello', ',', 'welcome', 'to', 'my', 'basics', 'class', '.']\n",
      "['I', \"'m\", 'trying', 'to', 'learn', 'NLP', 'techniques', '!']\n",
      "['Please', 'this', 'is', 'an', 'example', 'text', '.']\n",
      "['This', 'will', 'be', 'beneficial', 'for', 'understanding', 'more', '!', '.']\n"
     ]
    }
   ],
   "source": [
    "for sentence in documents:\n",
    "    print(word_tokenize(sentence))\n"
   ]
  },
  {
   "cell_type": "code",
   "execution_count": 31,
   "metadata": {},
   "outputs": [
    {
     "data": {
      "text/plain": [
       "['Hello',\n",
       " ',',\n",
       " 'welcome',\n",
       " 'to',\n",
       " 'my',\n",
       " 'basics',\n",
       " 'class',\n",
       " '.',\n",
       " 'I',\n",
       " \"'\",\n",
       " 'm',\n",
       " 'trying',\n",
       " 'to',\n",
       " 'learn',\n",
       " 'NLP',\n",
       " 'techniques',\n",
       " '!',\n",
       " 'Please',\n",
       " 'this',\n",
       " 'is',\n",
       " 'an',\n",
       " 'example',\n",
       " 'text',\n",
       " '.',\n",
       " 'This',\n",
       " 'will',\n",
       " 'be',\n",
       " 'beneficial',\n",
       " 'for',\n",
       " 'understanding',\n",
       " 'more',\n",
       " '!.']"
      ]
     },
     "execution_count": 31,
     "metadata": {},
     "output_type": "execute_result"
    }
   ],
   "source": [
    "from nltk.tokenize import wordpunct_tokenize\n",
    "\n",
    "wordpunct_tokenize(corpous)"
   ]
  },
  {
   "cell_type": "code",
   "execution_count": 32,
   "metadata": {},
   "outputs": [],
   "source": [
    "from nltk.tokenize import TreebankWordTokenizer\n",
    "\n",
    "tokenizer = TreebankWordTokenizer()"
   ]
  },
  {
   "cell_type": "code",
   "execution_count": 33,
   "metadata": {},
   "outputs": [
    {
     "data": {
      "text/plain": [
       "['Hello',\n",
       " ',',\n",
       " 'welcome',\n",
       " 'to',\n",
       " 'my',\n",
       " 'basics',\n",
       " 'class.',\n",
       " 'I',\n",
       " \"'m\",\n",
       " 'trying',\n",
       " 'to',\n",
       " 'learn',\n",
       " 'NLP',\n",
       " 'techniques',\n",
       " '!',\n",
       " 'Please',\n",
       " 'this',\n",
       " 'is',\n",
       " 'an',\n",
       " 'example',\n",
       " 'text.',\n",
       " 'This',\n",
       " 'will',\n",
       " 'be',\n",
       " 'beneficial',\n",
       " 'for',\n",
       " 'understanding',\n",
       " 'more',\n",
       " '!',\n",
       " '.']"
      ]
     },
     "execution_count": 33,
     "metadata": {},
     "output_type": "execute_result"
    }
   ],
   "source": [
    "tokenizer.tokenize(corpous)"
   ]
  },
  {
   "cell_type": "code",
   "execution_count": null,
   "metadata": {},
   "outputs": [],
   "source": []
  }
 ],
 "metadata": {
  "kernelspec": {
   "display_name": "myenv",
   "language": "python",
   "name": "python3"
  },
  "language_info": {
   "codemirror_mode": {
    "name": "ipython",
    "version": 3
   },
   "file_extension": ".py",
   "mimetype": "text/x-python",
   "name": "python",
   "nbconvert_exporter": "python",
   "pygments_lexer": "ipython3",
   "version": "3.10.11"
  }
 },
 "nbformat": 4,
 "nbformat_minor": 2
}
